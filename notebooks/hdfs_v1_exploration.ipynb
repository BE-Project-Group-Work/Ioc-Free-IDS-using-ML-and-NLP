{
 "cells": [
  {
   "cell_type": "code",
   "execution_count": 1,
   "id": "3d3a56fd",
   "metadata": {},
   "outputs": [],
   "source": [
    "import pandas as pd\n",
    "import numpy as np\n",
    "\n",
    "# --- 1. SET THE PATH TO YOUR FEATURE MATRIX ---\n",
    "MATRIX_FILE_PATH = 'D:/IoC-Free IDS using ML and NLP/data/raw/HDFS_Logs_Dataset/HDFS_v1/preprocessed/Event_occurrence_matrix.csv'"
   ]
  },
  {
   "cell_type": "code",
   "execution_count": 2,
   "id": "8f7d1c06",
   "metadata": {},
   "outputs": [
    {
     "name": "stdout",
     "output_type": "stream",
     "text": [
      "Successfully loaded the feature matrix from 'D:/IoC-Free IDS using ML and NLP/data/raw/HDFS_Logs_Dataset/HDFS_v1/preprocessed/Event_occurrence_matrix.csv'\n",
      "Shape of the matrix: (575061, 32)\n",
      "\n",
      "Data sample:\n",
      "                    BlockId    Label  Type  E1  E2   E3  E4  E5  E6  E7  ...  \\\n",
      "0  blk_-1608999687919862906  Success   NaN   0   0  203   0  10   7   0  ...   \n",
      "1   blk_7503483334202473044  Success   NaN   0   2    1   0   3   0   0  ...   \n",
      "2  blk_-3544583377289625738     Fail  21.0   0   0  203   0   3   0   0  ...   \n",
      "3  blk_-9073992586687739851  Success   NaN   0   3    0   0   3   0   0  ...   \n",
      "4   blk_7854771516489510256  Success   NaN   0   3    1  15   3   0   0  ...   \n",
      "\n",
      "   E20  E21  E22  E23  E24  E25  E26  E27  E28  E29  \n",
      "0    0   10    1   10    0    4   10    0    0    0  \n",
      "1    0    3    1    3    0    0    3    0    0    0  \n",
      "2    1    3    1    3    0    0    3    0    0    0  \n",
      "3    0    3    1    3    0    0    3    0    0    0  \n",
      "4    0    3    1    3    0    0    3    0    0    0  \n",
      "\n",
      "[5 rows x 32 columns]\n"
     ]
    }
   ],
   "source": [
    "\n",
    "# --- 2. LOAD THE PRE-ENGINEERED DATASET ---\n",
    "try:\n",
    "    df_matrix = pd.read_csv(MATRIX_FILE_PATH)\n",
    "    print(f\"Successfully loaded the feature matrix from '{MATRIX_FILE_PATH}'\")\n",
    "    print(f\"Shape of the matrix: {df_matrix.shape}\")\n",
    "except FileNotFoundError as e:\n",
    "    print(f\"Error: Could not find the file. Please check your path. Details: {e}\")\n",
    "\n",
    "print(\"\\nData sample:\")\n",
    "print(df_matrix.head())"
   ]
  },
  {
   "cell_type": "code",
   "execution_count": 4,
   "id": "03f82e81",
   "metadata": {},
   "outputs": [
    {
     "name": "stdout",
     "output_type": "stream",
     "text": [
      "\n",
      "--> Preparing data for modeling...\n",
      "    - Separated features (X) and target (y).\n",
      "    - Converted text labels to binary (0=Success, 1=Fail).\n"
     ]
    }
   ],
   "source": [
    "# --- 3. PREPARE DATA FOR MACHINE LEARNING ---\n",
    "print(\"\\n--> Preparing data for modeling...\")\n",
    "\n",
    "# a. Separate features (X) from the target label (y)\n",
    "# The features are all columns from 'E1' to the end.\n",
    "feature_columns = [col for col in df_matrix.columns if col.startswith('E')]\n",
    "X = df_matrix[feature_columns]\n",
    "\n",
    "# The label is in the 'Label' column. It says 'Success' or 'Fail'.\n",
    "y_text = df_matrix['Label']\n",
    "\n",
    "# b. Convert the text label to a binary format (0 for normal, 1 for anomaly)\n",
    "# We will assume 'Success' means Normal (0) and 'Fail' means Anomaly (1).\n",
    "y = y_text.apply(lambda label: 0 if label == 'Success' else 1)\n",
    "print(\"    - Separated features (X) and target (y).\")\n",
    "print(\"    - Converted text labels to binary (0=Success, 1=Fail).\")"
   ]
  },
  {
   "cell_type": "code",
   "execution_count": 5,
   "id": "b8d4433e",
   "metadata": {},
   "outputs": [
    {
     "name": "stdout",
     "output_type": "stream",
     "text": [
      "\n",
      "--- HDFS Data Preparation Complete! ---\n",
      "Shape of feature matrix X: (575061, 29)\n",
      "Shape of target vector y: (575061,)\n",
      "\n",
      "Sample of final features (X):\n",
      "   E1  E2   E3  E4  E5  E6  E7  E8  E9  E10  ...  E20  E21  E22  E23  E24  \\\n",
      "0   0   0  203   0  10   7   0   0   3    0  ...    0   10    1   10    0   \n",
      "1   0   2    1   0   3   0   0   0   3    0  ...    0    3    1    3    0   \n",
      "2   0   0  203   0   3   0   0   0   3    0  ...    1    3    1    3    0   \n",
      "3   0   3    0   0   3   0   0   0   3    0  ...    0    3    1    3    0   \n",
      "4   0   3    1  15   3   0   0   0   3    0  ...    0    3    1    3    0   \n",
      "\n",
      "   E25  E26  E27  E28  E29  \n",
      "0    4   10    0    0    0  \n",
      "1    0    3    0    0    0  \n",
      "2    0    3    0    0    0  \n",
      "3    0    3    0    0    0  \n",
      "4    0    3    0    0    0  \n",
      "\n",
      "[5 rows x 29 columns]\n",
      "\n",
      "Sample of final labels (y) and their original text:\n",
      "     Label  Label\n",
      "0  Success      0\n",
      "1  Success      0\n",
      "2     Fail      1\n",
      "3  Success      0\n",
      "4  Success      0\n",
      "\n",
      "Final label distribution:\n",
      "Label\n",
      "0    558223\n",
      "1     16838\n",
      "Name: count, dtype: int64\n"
     ]
    }
   ],
   "source": [
    "# --- 4. FINAL VERIFICATION ---\n",
    "print(\"\\n--- HDFS Data Preparation Complete! ---\")\n",
    "print(f\"Shape of feature matrix X: {X.shape}\")\n",
    "print(f\"Shape of target vector y: {y.shape}\")\n",
    "\n",
    "print(\"\\nSample of final features (X):\")\n",
    "print(X.head())\n",
    "\n",
    "print(\"\\nSample of final labels (y) and their original text:\")\n",
    "print(pd.concat([y_text, y], axis=1).head())\n",
    "\n",
    "print(\"\\nFinal label distribution:\")\n",
    "print(y.value_counts())"
   ]
  },
  {
   "cell_type": "code",
   "execution_count": 6,
   "id": "bb82830f",
   "metadata": {},
   "outputs": [
    {
     "name": "stdout",
     "output_type": "stream",
     "text": [
      "\n",
      "✅ Success! Final HDFS feature matrix has been saved to 'D:/IoC-Free IDS using ML and NLP/data/processed/hdfs_v1_feature_matrix_labeled.parquet'.\n"
     ]
    }
   ],
   "source": [
    "# --- SAVE THE PROCESSED DATA ---\n",
    "# We can save X and y together or separately. Let's create a final clean DataFrame.\n",
    "final_hdfs_data = pd.concat([X, y.rename('label')], axis=1)\n",
    "\n",
    "output_filename = 'D:/IoC-Free IDS using ML and NLP/data/processed/hdfs_v1_feature_matrix_labeled.parquet'\n",
    "final_hdfs_data.to_parquet(output_filename)\n",
    "print(f\"\\n✅ Success! Final HDFS feature matrix has been saved to '{output_filename}'.\")"
   ]
  }
 ],
 "metadata": {
  "kernelspec": {
   "display_name": "gpu_env",
   "language": "python",
   "name": "python3"
  },
  "language_info": {
   "codemirror_mode": {
    "name": "ipython",
    "version": 3
   },
   "file_extension": ".py",
   "mimetype": "text/x-python",
   "name": "python",
   "nbconvert_exporter": "python",
   "pygments_lexer": "ipython3",
   "version": "3.12.9"
  }
 },
 "nbformat": 4,
 "nbformat_minor": 5
}
